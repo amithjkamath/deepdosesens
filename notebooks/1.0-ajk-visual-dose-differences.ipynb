{
 "cells": [
  {
   "attachments": {},
   "cell_type": "markdown",
   "metadata": {},
   "source": [
    "# Visualize dose differences\n",
    "\n",
    "This notebook contains code that will generate subject-wise results to compare ground truth predictions and C3D generated dose volumes."
   ]
  },
  {
   "cell_type": "code",
   "execution_count": null,
   "metadata": {},
   "outputs": [],
   "source": [
    "# Setup library paths\n",
    "import os\n",
    "import numpy as np\n",
    "import SimpleITK as sitk\n",
    "\n",
    "from scipy import stats\n",
    "import matplotlib.pyplot as plt\n",
    "import matplotlib.backends.backend_pdf as pdf\n",
    "%matplotlib inline\n",
    "plt.rcParams['figure.figsize'] = [30, 15]"
   ]
  },
  {
   "cell_type": "code",
   "execution_count": null,
   "metadata": {},
   "outputs": [],
   "source": [
    "root_path = \"/Users/amithkamath/repo/deepdosesens\"\n",
    "base_gt_path = os.path.join(root_path, \"data\", \"processed-dldp\")\n",
    "base_pred_path = os.path.join(root_path, \"data\", \"output-dldp\", \"output-dldp-6\", \"Prediction\")\n",
    "results_path = os.path.join(root_path, \"results\")"
   ]
  },
  {
   "attachments": {},
   "cell_type": "markdown",
   "metadata": {},
   "source": [
    "Compute the relative size of the tumor target volume as a fraction of the total brain volume."
   ]
  },
  {
   "cell_type": "code",
   "execution_count": null,
   "metadata": {},
   "outputs": [],
   "source": [
    "subjects = [\"DLDP_\" + str(x).zfill(3) for x in range(81, 101)]\n",
    "\n",
    "for subject in subjects:\n",
    "        # Read GT\n",
    "        gt_path = os.path.join(base_gt_path, subject, \"Dose.nii.gz\")\n",
    "        gt_image = sitk.ReadImage(gt_path)\n",
    "        gt_array = sitk.GetArrayFromImage(gt_image)\n",
    "\n",
    "        target_volume_path = os.path.join(base_gt_path, subject, \"Target.nii.gz\")\n",
    "        target_image = sitk.ReadImage(target_volume_path)\n",
    "        target_array = sitk.GetArrayFromImage(target_image)\n",
    "\n",
    "        brain_volume_path = os.path.join(base_gt_path, subject, \"Brain.nii.gz\")\n",
    "        brain_image = sitk.ReadImage(brain_volume_path)\n",
    "        brain_array = sitk.GetArrayFromImage(brain_image)\n",
    "\n",
    "        relative_target_volume = np.sum(target_array) / np.sum(brain_array)\n",
    "\n",
    "        print(\"For subject: \", subject, \" relative target size is: \", relative_target_volume)  "
   ]
  },
  {
   "attachments": {},
   "cell_type": "markdown",
   "metadata": {},
   "source": [
    "Generate PDF file containing axial slices of the reference dose, predicted dose, and a difference between them, similar to Fig. 2 in the paper. This is done per subject, and a reasonable step size is used to generate 30 slices per subject.  "
   ]
  },
  {
   "cell_type": "code",
   "execution_count": null,
   "metadata": {},
   "outputs": [],
   "source": [
    "# Loop through the selected files and generate a pdf: with representative slices \n",
    "pp = pdf.PdfPages(os.path.join(results_path, \"1_deep_plan_compare_slices.pdf\"))\n",
    "\n",
    "for subject in subjects:\n",
    "        # Report the current state\n",
    "        print('Analyzing subject ' + subject)\n",
    "\n",
    "        # Read GT\n",
    "        gt_path = os.path.join(base_gt_path, subject, \"Dose.nii.gz\")\n",
    "        gt_image = sitk.ReadImage(gt_path)\n",
    "        gt_array = sitk.GetArrayFromImage(gt_image)\n",
    "\n",
    "        # Read Pred\n",
    "        pred_path = os.path.join(base_pred_path, subject, \"Dose.nii.gz\")\n",
    "        pred_image = sitk.ReadImage(pred_path)\n",
    "        pred_array = sitk.GetArrayFromImage(pred_image)\n",
    "        \n",
    "        diff_array = pred_array - gt_array\n",
    "\n",
    "        # Get the samples from the image\n",
    "        selected_idx = np.linspace(0.0, 1.0, num=30)\n",
    "\n",
    "        for index in selected_idx:\n",
    "            slice_num = int((gt_array.shape[0] - 1) * index)\n",
    "            fig, axes = plt.subplots(1, 3)\n",
    "            im_gt = axes[0].imshow(gt_array[slice_num, :, :], cmap='coolwarm', vmin=0, vmax=70)\n",
    "            #axes[0].title.set_text(\"GT\")\n",
    "            im_pred = axes[1].imshow(pred_array[slice_num, :, :], cmap='coolwarm', vmin=0, vmax=70)\n",
    "            #axes[1].title.set_text(\"Pred\")\n",
    "            diff = axes[2].imshow(diff_array[slice_num, :, :], cmap='bwr', vmin=-15, vmax=15)\n",
    "\n",
    "            p0 = axes[0].get_position().get_points().flatten()\n",
    "            p1 = axes[1].get_position().get_points().flatten()\n",
    "            p2 = axes[2].get_position().get_points().flatten()\n",
    "\n",
    "            ax_cbar = fig.add_axes([p0[0], 0.2, p1[2]-p0[0], 0.05])\n",
    "            plt.colorbar(im_gt, cax=ax_cbar, orientation='horizontal')\n",
    "            \n",
    "            ax_cbar1 = fig.add_axes([p2[0], 0.2, p2[2]-p2[0], 0.05])\n",
    "            plt.colorbar(diff, cax=ax_cbar1, orientation='horizontal')\n",
    "\n",
    "            fig.suptitle(\"Subject: \" + str(subject) + \" slice: \" + str(slice_num))\n",
    "            pp.savefig(fig)\n",
    "            plt.close()\n",
    "\n",
    "pp.close()"
   ]
  },
  {
   "attachments": {},
   "cell_type": "markdown",
   "metadata": {},
   "source": [
    "Also generate a histogram (per subject) of differences between the dose in the reference and prediction. Wider histograms indicate more severe differences. See 87, 88, 93 for example."
   ]
  },
  {
   "cell_type": "code",
   "execution_count": null,
   "metadata": {},
   "outputs": [],
   "source": [
    "# Loop through the selected files and generate a pdf with cumulative histogram of differences\n",
    "pp = pdf.PdfPages(os.path.join(results_path, '1_deep_plan_histogram.pdf'))\n",
    "\n",
    "for subject in subjects:\n",
    "        # Report the current state\n",
    "        print('Analyzing subject ' + subject)\n",
    "\n",
    "        # Read GT\n",
    "        gt_path = os.path.join(base_gt_path, subject, \"Dose.nii.gz\")\n",
    "        gt_image = sitk.ReadImage(gt_path)\n",
    "        gt_array = sitk.GetArrayFromImage(gt_image)\n",
    "\n",
    "        # Read Pred\n",
    "        pred_path = os.path.join(base_pred_path, subject, \"Dose.nii.gz\")\n",
    "        pred_image = sitk.ReadImage(pred_path)\n",
    "        pred_array = sitk.GetArrayFromImage(pred_image)\n",
    "        \n",
    "        diff_array = pred_array - gt_array\n",
    "        n_elems = np.prod(diff_array.shape)\n",
    "        res, bin_lims = np.histogram(diff_array, bins=100, range=(-15, 15))\n",
    "        \n",
    "\n",
    "        # Make central peak 0 to highlight the errors only\n",
    "        res[res == np.max(res)] = 0\n",
    "        plt.bar(bin_lims[:-1], res / n_elems, width=0.3, color=\"blue\")\n",
    "        ax = plt.gca()\n",
    "        ax.set_ylim([0, 0.12])\n",
    "        plt.title(\"Subject: \" + str(subject))\n",
    "        plt.yticks(np.arange(0, 0.1, step=0.01))\n",
    "        plt.ylabel(\"Percentage of voxels with specified difference in Grays\")\n",
    "        plt.xlabel(\"Difference in grays: Pred - GT; -ve = pred understimate, +ve = pred overestimate\")\n",
    "        plt.grid()\n",
    "        pp.savefig()\n",
    "        plt.close()\n",
    "\n",
    "pp.close()"
   ]
  }
 ],
 "metadata": {
  "kernelspec": {
   "display_name": "Python 3.10.6 ('deepplanner-env')",
   "language": "python",
   "name": "python3"
  },
  "language_info": {
   "codemirror_mode": {
    "name": "ipython",
    "version": 3
   },
   "file_extension": ".py",
   "mimetype": "text/x-python",
   "name": "python",
   "nbconvert_exporter": "python",
   "pygments_lexer": "ipython3",
   "version": "3.10.6"
  },
  "orig_nbformat": 4,
  "vscode": {
   "interpreter": {
    "hash": "7ac7573573d6df5d15933ec3e9bdc7efc6dba6705042469b5d22a781c70324e9"
   }
  }
 },
 "nbformat": 4,
 "nbformat_minor": 2
}
