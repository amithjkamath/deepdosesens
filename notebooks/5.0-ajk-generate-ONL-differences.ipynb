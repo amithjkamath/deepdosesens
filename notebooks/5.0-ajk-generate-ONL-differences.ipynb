{
 "cells": [
  {
   "cell_type": "code",
   "execution_count": null,
   "metadata": {},
   "outputs": [],
   "source": [
    "import numpy as np\n",
    "import os\n",
    "import glob\n",
    "import pandas as pd\n",
    "import SimpleITK as sitk\n",
    "import pandas as pd"
   ]
  },
  {
   "cell_type": "code",
   "execution_count": null,
   "metadata": {},
   "outputs": [],
   "source": [
    "def get_3D_Dose_dif(pred, gt, possible_dose_mask=None):\n",
    "    if possible_dose_mask is not None:\n",
    "        pred = pred[possible_dose_mask > 0]\n",
    "        gt = gt[possible_dose_mask > 0]\n",
    "\n",
    "    dif = np.mean(np.abs(pred - gt))\n",
    "    return dif"
   ]
  },
  {
   "cell_type": "code",
   "execution_count": null,
   "metadata": {},
   "outputs": [],
   "source": [
    "root_path = \"/Users/amithkamath/repo/deepdosesens\"\n",
    "data_path = os.path.join(root_path, \"data\", \"processed-ONL\")\n",
    "pred_path = os.path.join(root_path, \"data\", \"output-ONL\", \"output-ONL-6\", \"Prediction\")\n",
    "results_path = os.path.join(root_path, \"results\")"
   ]
  },
  {
   "cell_type": "code",
   "execution_count": null,
   "metadata": {},
   "outputs": [],
   "source": [
    "# select all cases in the folder\n",
    "cases = sorted(glob.glob(os.path.join(pred_path,\"*\")))\n",
    "\n",
    "# define a list to store the dataframes for the dose metrics\n",
    "dose_diff_data = {}\n",
    "dose_mean_data = {}\n",
    "pred_mean_data = {}\n",
    "case_names = []\n",
    "\n",
    "for case in cases:\n",
    "    # select the case number\n",
    "    case_nr = case.split(\"/\")[-1]\n",
    "    case_names.append(case_nr)\n",
    "    \n",
    "    # select and read the ground truth dose\n",
    "    dose_gt_path = glob.glob(os.path.join(data_path, case_nr) + \"/Dose.nii.gz\")\n",
    "    dose_gt = sitk.ReadImage(dose_gt_path[0])\n",
    "    dose_gt = sitk.GetArrayFromImage(dose_gt)\n",
    "\n",
    "    # select and read the predicted dose\n",
    "    dose_pred_path = glob.glob(os.path.join(pred_path, case_nr) + \"/Dose.nii.gz\")\n",
    "    dose_pred = sitk.ReadImage(dose_pred_path[0])\n",
    "    dose_pred = sitk.GetArrayFromImage(dose_pred)\n",
    "\n",
    "    # select all the structures in the folder\n",
    "    structures = glob.glob(os.path.join(data_path, case_nr) + \"/[!Dose]*\")\n",
    "\n",
    "    # define a list to store the dose metrics for the targets and oars\n",
    "    dose_diff = {}\n",
    "    dose_mean = {}\n",
    "    pred_mean = {}\n",
    "    names = []\n",
    "\n",
    "    # For every structure calculate the DVHs and dose metrics\n",
    "    for structure in structures:\n",
    "        # select the name of the structure\n",
    "        name = structure.split(\"/\")[-1].split(\".\")[0]\n",
    "\n",
    "        # If CT, ignore\n",
    "        if name == \"CT\":\n",
    "            continue\n",
    "        \n",
    "        # turn structure into a boolean mask\n",
    "        struct = sitk.ReadImage(structure)\n",
    "        mask = sitk.GetArrayFromImage(struct)\n",
    "        mask = np.array(mask, dtype='bool')\n",
    "\n",
    "        diff = get_3D_Dose_dif(dose_pred, dose_gt, possible_dose_mask=mask)\n",
    "        mean_gt = np.mean(dose_gt[mask > 0])\n",
    "        mean_pred = np.mean(dose_pred[mask > 0])\n",
    "\n",
    "        # then compute the percentage of difference to the mean GT, and store in dict.\n",
    "        dose_diff[name] = diff\n",
    "        dose_mean[name] = mean_gt\n",
    "        pred_mean[name] = mean_pred\n",
    "        names.append(name)\n",
    "\n",
    "    #subject_data = pd.DataFrame.from_dict(dose_percent, orient='index',\n",
    "    #                   columns=names)\n",
    "    dose_diff_data[case_nr] = dose_diff\n",
    "    dose_mean_data[case_nr] = dose_mean\n",
    "    pred_mean_data[case_nr] = pred_mean\n",
    "\n",
    "subject_data = pd.DataFrame.from_dict(dose_diff_data)\n",
    "subject_data.to_csv(os.path.join(root_path, \"results\", \"ONL_mean_difference.csv\"))\n",
    "\n",
    "subject_data = pd.DataFrame.from_dict(dose_mean_data)\n",
    "subject_data.to_csv(os.path.join(root_path, \"results\", \"ONL_mean_gt_dose.csv\"))\n",
    "\n",
    "subject_data = pd.DataFrame.from_dict(pred_mean_data)\n",
    "subject_data.to_csv(os.path.join(root_path, \"results\", \"ONL_mean_pred_dose.csv\"))"
   ]
  }
 ],
 "metadata": {
  "kernelspec": {
   "display_name": "Python 3",
   "language": "python",
   "name": "python3"
  },
  "language_info": {
   "name": "python",
   "version": "3.10.0"
  },
  "orig_nbformat": 4,
  "vscode": {
   "interpreter": {
    "hash": "5305b6773aa26fa3cd82a1b7d912ed4c445c10a0e6a35c857b539796e1f3603b"
   }
  }
 },
 "nbformat": 4,
 "nbformat_minor": 2
}
