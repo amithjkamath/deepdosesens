{
 "cells": [
  {
   "cell_type": "code",
   "execution_count": 9,
   "metadata": {},
   "outputs": [],
   "source": [
    "# Setup library paths\n",
    "import os\n",
    "import numpy as np\n",
    "import SimpleITK as sitk\n",
    "\n",
    "def volumetric_dice(img, mask):\n",
    "    img[img > 1] = 1\n",
    "    img[img < 1] = 0\n",
    "    mask[mask > 1] = 1\n",
    "    mask[mask < 1] = 0\n",
    "    return np.sum(mask[img == mask]) * 2.0 / (np.sum(img)+np.sum(mask))\n",
    "\n",
    "root_path = \"/Users/amithkamath/repo/deepdosesens\"\n",
    "base_gt_path = os.path.join(root_path, \"data\", \"processed-ONL\")\n",
    "base_pred_path = os.path.join(root_path, \"data\", \"output-ONL\", \"output-ONL-6\", \"Prediction\")"
   ]
  },
  {
   "cell_type": "code",
   "execution_count": 10,
   "metadata": {},
   "outputs": [
    {
     "name": "stdout",
     "output_type": "stream",
     "text": [
      "[35.54512, 35.767376, 32.374115, 34.51261, 34.062115, 30.108437, 35.963802, 41.170876, 33.057617, 36.064495]\n"
     ]
    }
   ],
   "source": [
    "predicted_ONL_dose = []\n",
    "\n",
    "for pred_idx in range(0, 10):\n",
    "    pred_dose = sitk.ReadImage(os.path.join(base_pred_path, \"DLDP_\" + str(pred_idx).zfill(3), \"Dose.nii.gz\"))\n",
    "    pred_dose = sitk.GetArrayFromImage(pred_dose)\n",
    "    \n",
    "    pred_mask = sitk.ReadImage(os.path.join(base_gt_path, \"DLDP_\" + str(pred_idx).zfill(3), \"OpticNerve_L.nii.gz\"))\n",
    "    pred_mask = sitk.GetArrayFromImage(pred_mask)\n",
    "\n",
    "    mean_pred = np.mean(pred_dose[pred_mask > 0])\n",
    "    predicted_ONL_dose.append(mean_pred)\n",
    "\n",
    "print(predicted_ONL_dose)"
   ]
  },
  {
   "cell_type": "code",
   "execution_count": 11,
   "metadata": {},
   "outputs": [
    {
     "name": "stdout",
     "output_type": "stream",
     "text": [
      "[21.9929987  24.61257634 21.15027571 29.61777099 43.91977061 21.44198947\n",
      " 80.15611953 25.86707505 22.90430834 21.15027571]\n"
     ]
    }
   ],
   "source": [
    "expert_conf_matrix = np.zeros((10, 10))\n",
    "dice_conf_matrix = np.zeros((10, 10))\n",
    "\n",
    "for first_idx in range(0, 10):\n",
    "    for second_idx in range(0, 10):\n",
    "        first_dose = sitk.ReadImage(os.path.join(base_gt_path, \"DLDP_\" + str(first_idx).zfill(3), \"Dose.nii.gz\"))\n",
    "        first_dose = sitk.GetArrayFromImage(first_dose)\n",
    "        \n",
    "        second_dose = sitk.ReadImage(os.path.join(base_gt_path, \"DLDP_\" + str(second_idx).zfill(3), \"Dose.nii.gz\"))\n",
    "        second_dose = sitk.GetArrayFromImage(second_dose)\n",
    "        \n",
    "        first_mask = sitk.ReadImage(os.path.join(base_gt_path, \"DLDP_\" + str(first_idx).zfill(3), \"OpticNerve_L.nii.gz\"))\n",
    "        first_mask = sitk.GetArrayFromImage(first_mask)\n",
    "\n",
    "        second_mask = sitk.ReadImage(os.path.join(base_gt_path, \"DLDP_\" + str(second_idx).zfill(3), \"OpticNerve_L.nii.gz\")) \n",
    "        second_mask = sitk.GetArrayFromImage(second_mask)\n",
    "\n",
    "        mean_first = np.mean(first_dose[first_mask > 0])\n",
    "        mean_second = np.mean(second_dose[second_mask > 0])\n",
    "        diff = np.abs(mean_first - mean_second)\n",
    "        expert_conf_matrix[first_idx - 1, second_idx - 1] = diff\n",
    "        dice_conf_matrix[first_idx - 1, second_idx - 1] = volumetric_dice(first_mask, second_mask)\n",
    "\n",
    "print(np.sum(np.abs(expert_conf_matrix), axis=1))"
   ]
  },
  {
   "cell_type": "code",
   "execution_count": 12,
   "metadata": {},
   "outputs": [
    {
     "name": "stdout",
     "output_type": "stream",
     "text": [
      "[20.84128571 29.41677094 20.39677429 21.29776764 47.54219818 21.62699127\n",
      " 63.08219147 25.31575775 22.23114777 20.39677429]\n"
     ]
    }
   ],
   "source": [
    "model_conf_matrix = np.zeros((10, 10))\n",
    "\n",
    "for first_idx in range(0, 10):\n",
    "    for second_idx in range(0, 10):\n",
    "        first_dose = sitk.ReadImage(os.path.join(base_pred_path, \"DLDP_\" + str(first_idx).zfill(3), \"Dose.nii.gz\"))\n",
    "        first_dose = sitk.GetArrayFromImage(first_dose)\n",
    "        \n",
    "        second_dose = sitk.ReadImage(os.path.join(base_pred_path, \"DLDP_\" + str(second_idx).zfill(3), \"Dose.nii.gz\"))\n",
    "        second_dose = sitk.GetArrayFromImage(second_dose)\n",
    "        \n",
    "        first_mask = sitk.ReadImage(os.path.join(base_gt_path, \"DLDP_\" + str(first_idx).zfill(3), \"OpticNerve_L.nii.gz\"))\n",
    "        first_mask = sitk.GetArrayFromImage(first_mask)\n",
    "\n",
    "        second_mask = sitk.ReadImage(os.path.join(base_gt_path, \"DLDP_\" + str(second_idx).zfill(3), \"OpticNerve_L.nii.gz\")) \n",
    "        second_mask = sitk.GetArrayFromImage(second_mask)\n",
    "\n",
    "        mean_first = np.mean(first_dose[first_mask > 0])\n",
    "        mean_second = np.mean(second_dose[second_mask > 0])\n",
    "        diff = np.abs(mean_first - mean_second)\n",
    "        model_conf_matrix[first_idx - 1, second_idx - 1] = diff\n",
    "\n",
    "print(np.sum(np.abs(model_conf_matrix), axis=1))"
   ]
  },
  {
   "cell_type": "code",
   "execution_count": 13,
   "metadata": {},
   "outputs": [
    {
     "data": {
      "text/plain": [
       "array([[ 0.        ,  2.37273706,  0.64158674,  3.31147772,  5.09922767,\n",
       "         0.13775231,  7.30836134,  2.68636173,  0.15188494,  0.28360919],\n",
       "       [ 2.37273706,  0.        ,  1.73115032,  0.93874067,  2.72649062,\n",
       "         2.23498475,  9.68109839,  0.31362468,  2.524622  ,  2.08912787],\n",
       "       [ 0.64158674,  1.73115032,  0.        ,  2.66989098,  4.45764093,\n",
       "         0.50383443,  7.94994808,  2.04477499,  0.79347168,  0.35797755],\n",
       "       [ 3.31147772,  0.93874067,  2.66989098,  0.        ,  1.78774995,\n",
       "         3.17372542, 10.61983906,  0.62511599,  3.46336266,  3.02786854],\n",
       "       [ 5.09922767,  2.72649062,  4.45764093,  1.78774995,  0.        ,\n",
       "         4.96147537, 12.40758901,  2.41286594,  5.25111262,  4.81561849],\n",
       "       [ 0.13775231,  2.23498475,  0.50383443,  3.17372542,  4.96147537,\n",
       "         0.        ,  7.44611365,  2.54860943,  0.28963725,  0.14585688],\n",
       "       [ 7.30836134,  9.68109839,  7.94994808, 10.61983906, 12.40758901,\n",
       "         7.44611365,  0.        ,  9.99472307,  7.1564764 ,  7.59197052],\n",
       "       [ 2.68636173,  0.31362468,  2.04477499,  0.62511599,  2.41286594,\n",
       "         2.54860943,  9.99472307,  0.        ,  2.83824667,  2.40275255],\n",
       "       [ 0.15188494,  2.524622  ,  0.79347168,  3.46336266,  5.25111262,\n",
       "         0.28963725,  7.1564764 ,  2.83824667,  0.        ,  0.43549413],\n",
       "       [ 0.28360919,  2.08912787,  0.35797755,  3.02786854,  4.81561849,\n",
       "         0.14585688,  7.59197052,  2.40275255,  0.43549413,  0.        ]])"
      ]
     },
     "execution_count": 13,
     "metadata": {},
     "output_type": "execute_result"
    }
   ],
   "source": [
    "expert_conf_matrix"
   ]
  },
  {
   "cell_type": "code",
   "execution_count": 14,
   "metadata": {},
   "outputs": [
    {
     "data": {
      "text/plain": [
       "array([[ 0.        ,  3.39326096,  1.25476456,  1.70526123,  5.65893936,\n",
       "         0.19642639,  5.4034996 ,  2.70975876,  0.29711914,  0.22225571],\n",
       "       [ 3.39326096,  0.        ,  2.1384964 ,  1.68799973,  2.26567841,\n",
       "         3.58968735,  8.79676056,  0.6835022 ,  3.6903801 ,  3.17100525],\n",
       "       [ 1.25476456,  2.1384964 ,  0.        ,  0.45049667,  4.4041748 ,\n",
       "         1.45119095,  6.65826416,  1.4549942 ,  1.5518837 ,  1.03250885],\n",
       "       [ 1.70526123,  1.68799973,  0.45049667,  0.        ,  3.95367813,\n",
       "         1.90168762,  7.10876083,  1.00449753,  2.00238037,  1.48300552],\n",
       "       [ 5.65893936,  2.26567841,  4.4041748 ,  3.95367813,  0.        ,\n",
       "         5.85536575, 11.06243896,  2.9491806 ,  5.9560585 ,  5.43668365],\n",
       "       [ 0.19642639,  3.58968735,  1.45119095,  1.90168762,  5.85536575,\n",
       "         0.        ,  5.20707321,  2.90618515,  0.10069275,  0.4186821 ],\n",
       "       [ 5.4034996 ,  8.79676056,  6.65826416,  7.10876083, 11.06243896,\n",
       "         5.20707321,  0.        ,  8.11325836,  5.10638046,  5.62575531],\n",
       "       [ 2.70975876,  0.6835022 ,  1.4549942 ,  1.00449753,  2.9491806 ,\n",
       "         2.90618515,  8.11325836,  0.        ,  3.0068779 ,  2.48750305],\n",
       "       [ 0.29711914,  3.6903801 ,  1.5518837 ,  2.00238037,  5.9560585 ,\n",
       "         0.10069275,  5.10638046,  3.0068779 ,  0.        ,  0.51937485],\n",
       "       [ 0.22225571,  3.17100525,  1.03250885,  1.48300552,  5.43668365,\n",
       "         0.4186821 ,  5.62575531,  2.48750305,  0.51937485,  0.        ]])"
      ]
     },
     "execution_count": 14,
     "metadata": {},
     "output_type": "execute_result"
    }
   ],
   "source": [
    "model_conf_matrix"
   ]
  },
  {
   "cell_type": "markdown",
   "metadata": {},
   "source": [
    "The idea here is we compare the pairwise difference of the mean dose scores between the 0th contour - which we think is the 'actual' one, and 9 other alternatives. When we compare the dose scores between the expert dose plans, we see that the 0th plan is closest to the 0th plan - which is expected, and then the 5th plan is the next closest, then the 8th, finally 4 and 6.\n",
    "\n",
    "Using now the predicted plans, the order of closeness is maintained reasonably well - where the 5th plan is also the closest, and the 6th and 4th plans are the farthest. "
   ]
  },
  {
   "cell_type": "code",
   "execution_count": 15,
   "metadata": {},
   "outputs": [
    {
     "name": "stdout",
     "output_type": "stream",
     "text": [
      "Similarity list of experts    :  [0 5 8 9 2 1 7 3 4 6]\n",
      "Similarity list of predictions:  [0 5 9 8 2 3 7 1 6 4]\n",
      "Similarity list of by dice    :  [0 9 2 4 1 5 8 7 3 6]\n",
      "Dose differences among experts    :  [0.         0.13775231 0.15188494 0.28360919 0.64158674 2.37273706\n",
      " 2.68636173 3.31147772 5.09922767 7.30836134]\n",
      "Dose differences among predictions:  [0.         0.19642639 0.29711914 0.22225571 1.25476456 3.39326096\n",
      " 2.70975876 1.70526123 5.65893936 5.4034996 ]\n",
      "Dice score differences            :  [1.         0.30769231 0.26373626 0.62790698 0.58928571 0.50877193\n",
      " 0.20408163 0.16438356 0.58252427 0.04878049]\n"
     ]
    }
   ],
   "source": [
    "expert_order = np.argsort(np.abs(expert_conf_matrix[:, 0]))\n",
    "pred_order   = np.argsort(np.abs(model_conf_matrix[:, 0]))\n",
    "dice_order   = np.argsort(dice_conf_matrix[:, 0])[::-1]\n",
    "\n",
    "print(\"Similarity list of experts    : \", expert_order)\n",
    "print(\"Similarity list of predictions: \", pred_order)\n",
    "print(\"Similarity list of by dice    : \", dice_order)\n",
    "\n",
    "print(\"Dose differences among experts    : \", np.abs(expert_conf_matrix[:, 0])[expert_order])\n",
    "print(\"Dose differences among predictions: \", np.abs(model_conf_matrix[:, 0])[expert_order])\n",
    "print(\"Dice score differences            : \", np.abs(dice_conf_matrix[:, 0])[expert_order])"
   ]
  }
 ],
 "metadata": {
  "kernelspec": {
   "display_name": "deepplanner-env",
   "language": "python",
   "name": "python3"
  },
  "language_info": {
   "codemirror_mode": {
    "name": "ipython",
    "version": 3
   },
   "file_extension": ".py",
   "mimetype": "text/x-python",
   "name": "python",
   "nbconvert_exporter": "python",
   "pygments_lexer": "ipython3",
   "version": "3.10.6"
  },
  "orig_nbformat": 4,
  "vscode": {
   "interpreter": {
    "hash": "7ac7573573d6df5d15933ec3e9bdc7efc6dba6705042469b5d22a781c70324e9"
   }
  }
 },
 "nbformat": 4,
 "nbformat_minor": 2
}
