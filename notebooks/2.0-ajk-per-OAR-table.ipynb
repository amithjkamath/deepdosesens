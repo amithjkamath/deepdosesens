{
 "cells": [
  {
   "attachments": {},
   "cell_type": "markdown",
   "metadata": {},
   "source": [
    "# Create per-OAR dose and DVH score tables\n",
    "\n",
    "This notebook contains code that generates the numbers that we report in Table 1 in the paper."
   ]
  },
  {
   "cell_type": "code",
   "execution_count": 1,
   "metadata": {},
   "outputs": [],
   "source": [
    "# Setup library paths\n",
    "import os\n",
    "import pandas as pd\n",
    "\n",
    "root_path = \"/Users/amithkamath/repo/deepdosesens\"\n",
    "base_pred_path = os.path.join(root_path, \"data\", \"output-dldp\", \"output-dldp-6\", \"Prediction\")\n",
    "results_path = os.path.join(root_path, \"results\")"
   ]
  },
  {
   "cell_type": "code",
   "execution_count": 2,
   "metadata": {},
   "outputs": [],
   "source": [
    "dose_score = pd.DataFrame()\n",
    "for subject in range(81, 101):\n",
    "    df = pd.read_csv(os.path.join(base_pred_path, \"DLDP_\" + str(subject).zfill(3), \"dose_score.csv\"))\n",
    "    dose_score = pd.concat([dose_score, df.iloc[:, 1]], axis=1)\n",
    "\n",
    "dose_results = pd.concat([dose_score.mean(axis=1), dose_score.std(axis=1)], axis=1)\n",
    "dose_results = dose_results.rename(index={\n",
    "        0: \"BrainStem\",\n",
    "        1: \"Chiasm\",\n",
    "        2: \"Cochlea_L\",\n",
    "        3: \"Cochlea_R\",\n",
    "        4: \"Eye_L\",\n",
    "        5: \"Eye_R\",\n",
    "        6: \"Hippocampus_L\",\n",
    "        7: \"Hippocampus_R\",\n",
    "        8: \"LacrimalGland_L\",\n",
    "        9: \"LacrimalGland_R\",\n",
    "        10: \"OpticNerve_L\",\n",
    "        11: \"OpticNerve_R\",\n",
    "        12: \"Pituitary\",\n",
    "        13: \"Target\"}, columns={0:\"Dose score (Mean)\", 1:\"Dose score (sd)\"})\n",
    "\n",
    "dose_results.to_csv(os.path.join(results_path, \"2_dose_score_per_OAR.csv\"))"
   ]
  },
  {
   "cell_type": "code",
   "execution_count": 3,
   "metadata": {},
   "outputs": [],
   "source": [
    "dvh_score = pd.DataFrame()\n",
    "for subject in range(81, 101):\n",
    "    df = pd.read_csv(os.path.join(base_pred_path, \"DLDP_\" + str(subject).zfill(3), \"dvh_score.csv\"))\n",
    "    dvh_score = pd.concat([dvh_score, df.iloc[:, 1]], axis=1)\n",
    "\n",
    "dvh_results = pd.concat([dvh_score.mean(axis=1), dvh_score.std(axis=1)], axis=1)\n",
    "dvh_results = dvh_results.rename(index={\n",
    "        0: \"BrainStem\",\n",
    "        1: \"Chiasm\",\n",
    "        2: \"Cochlea_L\",\n",
    "        3: \"Cochlea_R\",\n",
    "        4: \"Eye_L\",\n",
    "        5: \"Eye_R\",\n",
    "        6: \"Hippocampus_L\",\n",
    "        7: \"Hippocampus_R\",\n",
    "        8: \"LacrimalGland_L\",\n",
    "        9: \"LacrimalGland_R\",\n",
    "        10: \"OpticNerve_L\",\n",
    "        11: \"OpticNerve_R\",\n",
    "        12: \"Pituitary\",\n",
    "        13: \"Target\"}, columns={0:\"DVH score (Mean)\", 1:\"DVH score (sd)\"})\n",
    "\n",
    "dvh_results.to_csv(os.path.join(results_path, \"2_dvh_score_per_OAR.csv\"))"
   ]
  }
 ],
 "metadata": {
  "kernelspec": {
   "display_name": "Python 3.10.6 ('deepplanner-env')",
   "language": "python",
   "name": "python3"
  },
  "language_info": {
   "codemirror_mode": {
    "name": "ipython",
    "version": 3
   },
   "file_extension": ".py",
   "mimetype": "text/x-python",
   "name": "python",
   "nbconvert_exporter": "python",
   "pygments_lexer": "ipython3",
   "version": "3.10.6"
  },
  "orig_nbformat": 4,
  "vscode": {
   "interpreter": {
    "hash": "7ac7573573d6df5d15933ec3e9bdc7efc6dba6705042469b5d22a781c70324e9"
   }
  }
 },
 "nbformat": 4,
 "nbformat_minor": 2
}
