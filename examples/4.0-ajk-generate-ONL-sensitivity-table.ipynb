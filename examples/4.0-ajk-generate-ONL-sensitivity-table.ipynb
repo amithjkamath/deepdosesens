{
 "cells": [
  {
   "cell_type": "markdown",
   "metadata": {},
   "source": [
    "# Optic Nerve Left sensitivity results\n",
    "\n",
    "This notebook contains code to reproduce what is reported in Table 2 of the paper."
   ]
  },
  {
   "cell_type": "code",
   "execution_count": 2,
   "metadata": {},
   "outputs": [],
   "source": [
    "# Setup library paths\n",
    "import os\n",
    "import numpy as np\n",
    "import SimpleITK as sitk\n",
    "\n",
    "def volumetric_dice(img, mask):\n",
    "    img[img > 1] = 1\n",
    "    img[img < 1] = 0\n",
    "    mask[mask > 1] = 1\n",
    "    mask[mask < 1] = 0\n",
    "    return np.sum(mask[img == mask]) * 2.0 / (np.sum(img)+np.sum(mask))\n",
    "\n",
    "root_path = \"/Users/amithkamath/repo/deepdosesens\"\n",
    "base_gt_path = os.path.join(root_path, \"data\", \"processed-ONL\")\n",
    "base_pred_path = os.path.join(root_path, \"data\", \"output-ONL\", \"output-ONL-6\", \"Prediction\")"
   ]
  },
  {
   "cell_type": "code",
   "execution_count": 3,
   "metadata": {},
   "outputs": [
    {
     "name": "stdout",
     "output_type": "stream",
     "text": [
      "[35.54512, 35.767376, 32.374115, 34.51261, 34.062115, 30.108437, 35.963802, 41.170876, 33.057617, 36.064495]\n"
     ]
    }
   ],
   "source": [
    "mean_ONL_dose = []\n",
    "\n",
    "for pred_idx in range(0, 10):\n",
    "    pred_dose = sitk.ReadImage(os.path.join(base_pred_path, \"DLDP_\" + str(pred_idx).zfill(3), \"Dose.nii.gz\"))\n",
    "    pred_dose = sitk.GetArrayFromImage(pred_dose)\n",
    "    \n",
    "    pred_mask = sitk.ReadImage(os.path.join(base_gt_path, \"DLDP_\" + str(pred_idx).zfill(3), \"OpticNerve_L.nii.gz\"))\n",
    "    pred_mask = sitk.GetArrayFromImage(pred_mask)\n",
    "\n",
    "    mean_pred = np.mean(pred_dose[pred_mask > 0])\n",
    "    mean_ONL_dose.append(mean_pred)\n",
    "\n",
    "print(mean_ONL_dose)"
   ]
  },
  {
   "attachments": {},
   "cell_type": "markdown",
   "metadata": {},
   "source": [
    "Compute the difference between the reference doses between the 0th and the rest of the variations of the ONL contour."
   ]
  },
  {
   "cell_type": "code",
   "execution_count": 4,
   "metadata": {},
   "outputs": [
    {
     "data": {
      "text/plain": [
       "array([0.        , 0.28360919, 2.08912787, 0.35797755, 3.02786854,\n",
       "       4.81561849, 0.14585688, 7.59197052, 2.40275255, 0.43549413])"
      ]
     },
     "execution_count": 4,
     "metadata": {},
     "output_type": "execute_result"
    }
   ],
   "source": [
    "expert_conf_matrix = np.zeros((10))\n",
    "\n",
    "first_idx = 0\n",
    "first_dose = sitk.ReadImage(os.path.join(base_gt_path, \"DLDP_\" + str(first_idx).zfill(3), \"Dose.nii.gz\"))\n",
    "first_dose = sitk.GetArrayFromImage(first_dose)\n",
    "\n",
    "first_mask = sitk.ReadImage(os.path.join(base_gt_path, \"DLDP_\" + str(first_idx).zfill(3), \"OpticNerve_L.nii.gz\"))\n",
    "first_mask = sitk.GetArrayFromImage(first_mask)\n",
    "\n",
    "mean_first = np.mean(first_dose[first_mask > 0])\n",
    "\n",
    "for second_idx in range(0, 10):\n",
    "    second_dose = sitk.ReadImage(os.path.join(base_gt_path, \"DLDP_\" + str(second_idx).zfill(3), \"Dose.nii.gz\"))\n",
    "    second_dose = sitk.GetArrayFromImage(second_dose)\n",
    "    \n",
    "    second_mask = sitk.ReadImage(os.path.join(base_gt_path, \"DLDP_\" + str(second_idx).zfill(3), \"OpticNerve_L.nii.gz\")) \n",
    "    second_mask = sitk.GetArrayFromImage(second_mask)\n",
    "\n",
    "    mean_second = np.mean(second_dose[second_mask > 0])\n",
    "    diff = np.abs(mean_first - mean_second)\n",
    "    expert_conf_matrix[second_idx] = diff\n",
    "\n",
    "expert_conf_matrix\n"
   ]
  },
  {
   "attachments": {},
   "cell_type": "markdown",
   "metadata": {},
   "source": [
    "Compute the difference between the predicted doses between the 0th and the rest of the variations of the ONL contour.Also compute the dice scores between these contour variations."
   ]
  },
  {
   "cell_type": "code",
   "execution_count": 5,
   "metadata": {},
   "outputs": [],
   "source": [
    "model_conf_matrix = np.zeros((10))\n",
    "dice_conf_matrix = np.zeros((10))\n",
    "\n",
    "first_idx = 0\n",
    "first_dose = sitk.ReadImage(os.path.join(base_pred_path, \"DLDP_\" + str(first_idx).zfill(3), \"Dose.nii.gz\"))\n",
    "first_dose = sitk.GetArrayFromImage(first_dose)\n",
    "first_mask = sitk.ReadImage(os.path.join(base_gt_path, \"DLDP_\" + str(first_idx).zfill(3), \"OpticNerve_L.nii.gz\"))\n",
    "first_mask = sitk.GetArrayFromImage(first_mask)\n",
    "mean_first = np.mean(first_dose[first_mask > 0])\n",
    "\n",
    "for second_idx in range(0, 10):\n",
    "    second_dose = sitk.ReadImage(os.path.join(base_pred_path, \"DLDP_\" + str(second_idx).zfill(3), \"Dose.nii.gz\"))\n",
    "    second_dose = sitk.GetArrayFromImage(second_dose)\n",
    "\n",
    "    second_mask = sitk.ReadImage(os.path.join(base_gt_path, \"DLDP_\" + str(second_idx).zfill(3), \"OpticNerve_L.nii.gz\")) \n",
    "    second_mask = sitk.GetArrayFromImage(second_mask)\n",
    "\n",
    "    mean_second = np.mean(second_dose[second_mask > 0])\n",
    "    diff = np.abs(mean_first - mean_second)\n",
    "    model_conf_matrix[second_idx] = diff\n",
    "    dice_conf_matrix[second_idx] = volumetric_dice(first_mask, second_mask)\n"
   ]
  },
  {
   "attachments": {},
   "cell_type": "markdown",
   "metadata": {},
   "source": [
    "Create an index of the increasing order of differences between reference doses. Then, use this to plot the order of reference dose differences, predicted dose, and dice scores. This is what is reported in Table 2."
   ]
  },
  {
   "cell_type": "code",
   "execution_count": 6,
   "metadata": {},
   "outputs": [
    {
     "name": "stdout",
     "output_type": "stream",
     "text": [
      "Dose differences among experts    :  [0.         0.14585688 0.28360919 0.35797755 0.43549413 2.08912787\n",
      " 2.40275255 3.02786854 4.81561849 7.59197052]\n",
      "Dose differences among predictions:  [0.         0.4186821  0.22225571 1.03250885 0.51937485 3.17100525\n",
      " 2.48750305 1.48300552 5.43668365 5.62575531]\n",
      "Dice score differences            :  [1.         0.3255814  0.62790698 0.78333333 0.36363636 0.59016393\n",
      " 0.50943396 0.19753086 0.61261261 0.22900763]\n"
     ]
    }
   ],
   "source": [
    "expert_order = np.argsort(np.abs(expert_conf_matrix))\n",
    "\n",
    "expert_dose_diff = np.abs(expert_conf_matrix)[expert_order]\n",
    "pred_dose_diff = np.abs(model_conf_matrix)[expert_order]\n",
    "dice_diff = np.abs(dice_conf_matrix)[expert_order]\n",
    "\n",
    "print(\"Dose differences among experts    : \", expert_dose_diff)\n",
    "print(\"Dose differences among predictions: \", pred_dose_diff)\n",
    "print(\"Dice score differences            : \", dice_diff)"
   ]
  },
  {
   "cell_type": "code",
   "execution_count": 7,
   "metadata": {},
   "outputs": [
    {
     "name": "stdout",
     "output_type": "stream",
     "text": [
      "Mean absolute reference dose difference is: 2.1150275713423934\n"
     ]
    }
   ],
   "source": [
    "print(\"Mean absolute reference dose difference is: \" + str(np.mean(expert_dose_diff)))"
   ]
  },
  {
   "cell_type": "code",
   "execution_count": 8,
   "metadata": {},
   "outputs": [
    {
     "name": "stdout",
     "output_type": "stream",
     "text": [
      "Mean absolute predicted dose difference is: 2.0396774291992186\n"
     ]
    }
   ],
   "source": [
    "print(\"Mean absolute predicted dose difference is: \" + str(np.mean(pred_dose_diff)))"
   ]
  },
  {
   "cell_type": "code",
   "execution_count": 9,
   "metadata": {},
   "outputs": [
    {
     "name": "stdout",
     "output_type": "stream",
     "text": [
      "Mean absolute dice score is: 0.523920707615103\n"
     ]
    }
   ],
   "source": [
    "print(\"Mean absolute dice score is: \" + str(np.mean(dice_diff)))"
   ]
  },
  {
   "attachments": {},
   "cell_type": "markdown",
   "metadata": {},
   "source": [
    "Compute the correlation coefficient between dice score and reference dose differences."
   ]
  },
  {
   "cell_type": "code",
   "execution_count": 10,
   "metadata": {},
   "outputs": [
    {
     "data": {
      "text/plain": [
       "array([[ 1.        , -0.47148969],\n",
       "       [-0.47148969,  1.        ]])"
      ]
     },
     "execution_count": 10,
     "metadata": {},
     "output_type": "execute_result"
    }
   ],
   "source": [
    "np.corrcoef(expert_dose_diff, dice_diff)"
   ]
  },
  {
   "attachments": {},
   "cell_type": "markdown",
   "metadata": {},
   "source": [
    "Compute the correlation coefficient between predicted dose differences and reference dose differences."
   ]
  },
  {
   "cell_type": "code",
   "execution_count": 11,
   "metadata": {},
   "outputs": [
    {
     "data": {
      "text/plain": [
       "array([[1.        , 0.92649897],\n",
       "       [0.92649897, 1.        ]])"
      ]
     },
     "execution_count": 11,
     "metadata": {},
     "output_type": "execute_result"
    }
   ],
   "source": [
    "np.corrcoef(expert_dose_diff, pred_dose_diff)"
   ]
  }
 ],
 "metadata": {
  "kernelspec": {
   "display_name": "deepplanner-env",
   "language": "python",
   "name": "python3"
  },
  "language_info": {
   "codemirror_mode": {
    "name": "ipython",
    "version": 3
   },
   "file_extension": ".py",
   "mimetype": "text/x-python",
   "name": "python",
   "nbconvert_exporter": "python",
   "pygments_lexer": "ipython3",
   "version": "3.10.6"
  },
  "orig_nbformat": 4,
  "vscode": {
   "interpreter": {
    "hash": "7ac7573573d6df5d15933ec3e9bdc7efc6dba6705042469b5d22a781c70324e9"
   }
  }
 },
 "nbformat": 4,
 "nbformat_minor": 2
}
